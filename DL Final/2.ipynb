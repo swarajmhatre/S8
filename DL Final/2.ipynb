{
 "cells": [
  {
   "cell_type": "markdown",
   "metadata": {
    "id": "dPG_iuBbBMCH"
   },
   "source": [
    "\n"
   ]
  },
  {
   "cell_type": "markdown",
   "metadata": {
    "id": "-0fiOICO2_Mb"
   },
   "source": [
    "*Assignment* 02: DL - LP5\n",
    "\n",
    "A. Classification using Deep neural network (Any One from the following)\n",
    "Binary classification using Deep Neural Networks Example: Classify movie reviews into\n",
    "positive\" reviews and \"negative\" reviews, just based on the text content of the reviews.\n",
    "Use IMDB dataset\n",
    "\n",
    "B.Multiclass classification using Deep Neural Networks: Example: Use the OCR letter\n",
    "recognition datasethttps://archive.ics.uci.edu/ml/datasets/letter+recognition"
   ]
  },
  {
   "cell_type": "markdown",
   "metadata": {
    "id": "6v8k55AOqP1G"
   },
   "source": [
    "**2nd** **A**"
   ]
  },
  {
   "cell_type": "markdown",
   "metadata": {
    "id": "tsae-8SDuyES"
   },
   "source": [
    "Multiclass classification using Deep Neural Networks: Example: Use the OCR letter recognition dataset https://archive.ics.uci.edu/ml/datasets/letter+recognition"
   ]
  },
  {
   "cell_type": "code",
   "execution_count": 11,
   "metadata": {
    "id": "b1w946iIOa5k"
   },
   "outputs": [],
   "source": [
    "import pandas as pd\n",
    "from sklearn.model_selection import train_test_split\n",
    "from sklearn.preprocessing import StandardScaler\n",
    "from sklearn.neural_network import MLPClassifier\n",
    "from yellowbrick.classifier import ConfusionMatrix\n",
    "from sklearn.metrics import classification_report, confusion_matrix, accuracy_score\n"
   ]
  },
  {
   "cell_type": "code",
   "execution_count": 12,
   "metadata": {
    "colab": {
     "base_uri": "https://localhost:8080/",
     "height": 363
    },
    "id": "Qs38XsuMOa2E",
    "outputId": "a54ad564-69f2-4541-8386-b6430e779fa2"
   },
   "outputs": [
    {
     "data": {
      "text/html": [
       "<div>\n",
       "<style scoped>\n",
       "    .dataframe tbody tr th:only-of-type {\n",
       "        vertical-align: middle;\n",
       "    }\n",
       "\n",
       "    .dataframe tbody tr th {\n",
       "        vertical-align: top;\n",
       "    }\n",
       "\n",
       "    .dataframe thead th {\n",
       "        text-align: right;\n",
       "    }\n",
       "</style>\n",
       "<table border=\"1\" class=\"dataframe\">\n",
       "  <thead>\n",
       "    <tr style=\"text-align: right;\">\n",
       "      <th></th>\n",
       "      <th>T</th>\n",
       "      <th>2</th>\n",
       "      <th>8</th>\n",
       "      <th>3</th>\n",
       "      <th>5</th>\n",
       "      <th>1</th>\n",
       "      <th>8.1</th>\n",
       "      <th>13</th>\n",
       "      <th>0</th>\n",
       "      <th>6</th>\n",
       "      <th>6.1</th>\n",
       "      <th>10</th>\n",
       "      <th>8.2</th>\n",
       "      <th>0.1</th>\n",
       "      <th>8.3</th>\n",
       "      <th>0.2</th>\n",
       "      <th>8.4</th>\n",
       "    </tr>\n",
       "  </thead>\n",
       "  <tbody>\n",
       "    <tr>\n",
       "      <th>0</th>\n",
       "      <td>I</td>\n",
       "      <td>5</td>\n",
       "      <td>12</td>\n",
       "      <td>3</td>\n",
       "      <td>7</td>\n",
       "      <td>2</td>\n",
       "      <td>10</td>\n",
       "      <td>5</td>\n",
       "      <td>5</td>\n",
       "      <td>4</td>\n",
       "      <td>13</td>\n",
       "      <td>3</td>\n",
       "      <td>9</td>\n",
       "      <td>2</td>\n",
       "      <td>8</td>\n",
       "      <td>4</td>\n",
       "      <td>10</td>\n",
       "    </tr>\n",
       "    <tr>\n",
       "      <th>1</th>\n",
       "      <td>D</td>\n",
       "      <td>4</td>\n",
       "      <td>11</td>\n",
       "      <td>6</td>\n",
       "      <td>8</td>\n",
       "      <td>6</td>\n",
       "      <td>10</td>\n",
       "      <td>6</td>\n",
       "      <td>2</td>\n",
       "      <td>6</td>\n",
       "      <td>10</td>\n",
       "      <td>3</td>\n",
       "      <td>7</td>\n",
       "      <td>3</td>\n",
       "      <td>7</td>\n",
       "      <td>3</td>\n",
       "      <td>9</td>\n",
       "    </tr>\n",
       "    <tr>\n",
       "      <th>2</th>\n",
       "      <td>N</td>\n",
       "      <td>7</td>\n",
       "      <td>11</td>\n",
       "      <td>6</td>\n",
       "      <td>6</td>\n",
       "      <td>3</td>\n",
       "      <td>5</td>\n",
       "      <td>9</td>\n",
       "      <td>4</td>\n",
       "      <td>6</td>\n",
       "      <td>4</td>\n",
       "      <td>4</td>\n",
       "      <td>10</td>\n",
       "      <td>6</td>\n",
       "      <td>10</td>\n",
       "      <td>2</td>\n",
       "      <td>8</td>\n",
       "    </tr>\n",
       "    <tr>\n",
       "      <th>3</th>\n",
       "      <td>G</td>\n",
       "      <td>2</td>\n",
       "      <td>1</td>\n",
       "      <td>3</td>\n",
       "      <td>1</td>\n",
       "      <td>1</td>\n",
       "      <td>8</td>\n",
       "      <td>6</td>\n",
       "      <td>6</td>\n",
       "      <td>6</td>\n",
       "      <td>6</td>\n",
       "      <td>5</td>\n",
       "      <td>9</td>\n",
       "      <td>1</td>\n",
       "      <td>7</td>\n",
       "      <td>5</td>\n",
       "      <td>10</td>\n",
       "    </tr>\n",
       "    <tr>\n",
       "      <th>4</th>\n",
       "      <td>S</td>\n",
       "      <td>4</td>\n",
       "      <td>11</td>\n",
       "      <td>5</td>\n",
       "      <td>8</td>\n",
       "      <td>3</td>\n",
       "      <td>8</td>\n",
       "      <td>8</td>\n",
       "      <td>6</td>\n",
       "      <td>9</td>\n",
       "      <td>5</td>\n",
       "      <td>6</td>\n",
       "      <td>6</td>\n",
       "      <td>0</td>\n",
       "      <td>8</td>\n",
       "      <td>9</td>\n",
       "      <td>7</td>\n",
       "    </tr>\n",
       "    <tr>\n",
       "      <th>5</th>\n",
       "      <td>B</td>\n",
       "      <td>4</td>\n",
       "      <td>2</td>\n",
       "      <td>5</td>\n",
       "      <td>4</td>\n",
       "      <td>4</td>\n",
       "      <td>8</td>\n",
       "      <td>7</td>\n",
       "      <td>6</td>\n",
       "      <td>6</td>\n",
       "      <td>7</td>\n",
       "      <td>6</td>\n",
       "      <td>6</td>\n",
       "      <td>2</td>\n",
       "      <td>8</td>\n",
       "      <td>7</td>\n",
       "      <td>10</td>\n",
       "    </tr>\n",
       "    <tr>\n",
       "      <th>6</th>\n",
       "      <td>A</td>\n",
       "      <td>1</td>\n",
       "      <td>1</td>\n",
       "      <td>3</td>\n",
       "      <td>2</td>\n",
       "      <td>1</td>\n",
       "      <td>8</td>\n",
       "      <td>2</td>\n",
       "      <td>2</td>\n",
       "      <td>2</td>\n",
       "      <td>8</td>\n",
       "      <td>2</td>\n",
       "      <td>8</td>\n",
       "      <td>1</td>\n",
       "      <td>6</td>\n",
       "      <td>2</td>\n",
       "      <td>7</td>\n",
       "    </tr>\n",
       "    <tr>\n",
       "      <th>7</th>\n",
       "      <td>J</td>\n",
       "      <td>2</td>\n",
       "      <td>2</td>\n",
       "      <td>4</td>\n",
       "      <td>4</td>\n",
       "      <td>2</td>\n",
       "      <td>10</td>\n",
       "      <td>6</td>\n",
       "      <td>2</td>\n",
       "      <td>6</td>\n",
       "      <td>12</td>\n",
       "      <td>4</td>\n",
       "      <td>8</td>\n",
       "      <td>1</td>\n",
       "      <td>6</td>\n",
       "      <td>1</td>\n",
       "      <td>7</td>\n",
       "    </tr>\n",
       "    <tr>\n",
       "      <th>8</th>\n",
       "      <td>M</td>\n",
       "      <td>11</td>\n",
       "      <td>15</td>\n",
       "      <td>13</td>\n",
       "      <td>9</td>\n",
       "      <td>7</td>\n",
       "      <td>13</td>\n",
       "      <td>2</td>\n",
       "      <td>6</td>\n",
       "      <td>2</td>\n",
       "      <td>12</td>\n",
       "      <td>1</td>\n",
       "      <td>9</td>\n",
       "      <td>8</td>\n",
       "      <td>1</td>\n",
       "      <td>1</td>\n",
       "      <td>8</td>\n",
       "    </tr>\n",
       "    <tr>\n",
       "      <th>9</th>\n",
       "      <td>X</td>\n",
       "      <td>3</td>\n",
       "      <td>9</td>\n",
       "      <td>5</td>\n",
       "      <td>7</td>\n",
       "      <td>4</td>\n",
       "      <td>8</td>\n",
       "      <td>7</td>\n",
       "      <td>3</td>\n",
       "      <td>8</td>\n",
       "      <td>5</td>\n",
       "      <td>6</td>\n",
       "      <td>8</td>\n",
       "      <td>2</td>\n",
       "      <td>8</td>\n",
       "      <td>6</td>\n",
       "      <td>7</td>\n",
       "    </tr>\n",
       "  </tbody>\n",
       "</table>\n",
       "</div>"
      ],
      "text/plain": [
       "   T   2   8   3  5  1  8.1  13  0  6  6.1  10  8.2  0.1  8.3  0.2  8.4\n",
       "0  I   5  12   3  7  2   10   5  5  4   13   3    9    2    8    4   10\n",
       "1  D   4  11   6  8  6   10   6  2  6   10   3    7    3    7    3    9\n",
       "2  N   7  11   6  6  3    5   9  4  6    4   4   10    6   10    2    8\n",
       "3  G   2   1   3  1  1    8   6  6  6    6   5    9    1    7    5   10\n",
       "4  S   4  11   5  8  3    8   8  6  9    5   6    6    0    8    9    7\n",
       "5  B   4   2   5  4  4    8   7  6  6    7   6    6    2    8    7   10\n",
       "6  A   1   1   3  2  1    8   2  2  2    8   2    8    1    6    2    7\n",
       "7  J   2   2   4  4  2   10   6  2  6   12   4    8    1    6    1    7\n",
       "8  M  11  15  13  9  7   13   2  6  2   12   1    9    8    1    1    8\n",
       "9  X   3   9   5  7  4    8   7  3  8    5   6    8    2    8    6    7"
      ]
     },
     "execution_count": 12,
     "metadata": {},
     "output_type": "execute_result"
    }
   ],
   "source": [
    "\n",
    "dataset = pd.read_csv(\"./letter-recognition.data\", sep = \",\")\n",
    "dataset.head(10)\n"
   ]
  },
  {
   "cell_type": "code",
   "execution_count": 6,
   "metadata": {
    "id": "SOA-RQLoOazd"
   },
   "outputs": [],
   "source": [
    "X = dataset.iloc[:, 1 : 17]\n",
    "Y = dataset.select_dtypes(include = [object])\n",
    "X_train, X_validation, Y_train, Y_validation = train_test_split(X, Y, test_size = 0.20, random_state = 10)\n",
    "\n",
    "scaler = StandardScaler()\n",
    "scaler.fit(X_train)\n",
    "\n",
    "X_train = scaler.transform(X_train)\n",
    "X_validation = scaler.transform(X_validation)"
   ]
  },
  {
   "cell_type": "code",
   "execution_count": 7,
   "metadata": {
    "colab": {
     "base_uri": "https://localhost:8080/",
     "height": 557
    },
    "id": "9OL7W0AoOawX",
    "outputId": "93e2c9f8-5446-44f0-98a0-bb9aaf8e03b2"
   },
   "outputs": [
    {
     "name": "stderr",
     "output_type": "stream",
     "text": [
      "C:\\Users\\LENOVO\\AppData\\Local\\Programs\\Python\\Python311\\Lib\\site-packages\\sklearn\\preprocessing\\_label.py:114: DataConversionWarning: A column-vector y was passed when a 1d array was expected. Please change the shape of y to (n_samples, ), for example using ravel().\n",
      "  y = column_or_1d(y, warn=True)\n"
     ]
    },
    {
     "data": {
      "text/plain": [
       "0.979"
      ]
     },
     "execution_count": 7,
     "metadata": {},
     "output_type": "execute_result"
    },
    {
     "data": {
      "image/png": "[encoded data removed]",
      "text/plain": [
       "<Figure size 800x550 with 1 Axes>"
      ]
     },
     "metadata": {},
     "output_type": "display_data"
    }
   ],
   "source": [
    "mlp = MLPClassifier(hidden_layer_sizes = (250, 300), max_iter = 1000000, activation = 'logistic')\n",
    "cm = ConfusionMatrix(mlp, classes=\"A,B,C,D,E,F,G,H,I,J,K,L,M,N,O,P,Q,R,S,T,U,V,W,X,Y,Z\".split(','))\n",
    "\n",
    "cm.fit(X_train, Y_train.values.ravel())\n",
    "cm.score(X_validation, Y_validation)"
   ]
  },
  {
   "cell_type": "code",
   "execution_count": 8,
   "metadata": {
    "colab": {
     "base_uri": "https://localhost:8080/"
    },
    "id": "9jXf8avkBjB8",
    "outputId": "3c029b31-4413-4aad-9695-1d7ef626f600"
   },
   "outputs": [
    {
     "name": "stdout",
     "output_type": "stream",
     "text": [
      "Accuracy:  0.979\n",
      "Confusion matrix: [[170   0   0   0   0   0   0   0   0   0   0   0   0   0   0   0   0   0\n",
      "    0   0   0   0   0   0   0   0]\n",
      " [  0 137   0   0   2   0   0   0   1   0   0   0   0   0   0   0   0   2\n",
      "    0   0   0   1   0   1   0   0]\n",
      " [  0   0 157   0   0   0   1   0   0   0   0   1   0   0   2   0   0   0\n",
      "    0   0   0   0   0   0   0   0]\n",
      " [  0   1   0 171   0   0   0   1   0   0   0   0   0   1   0   0   0   0\n",
      "    0   0   0   0   0   0   0   0]\n",
      " [  0   0   1   0 143   0   0   0   0   0   0   1   0   0   0   0   0   0\n",
      "    0   0   0   0   0   0   0   3]\n",
      " [  0   0   0   0   0 135   0   0   1   0   0   0   0   0   0   0   0   0\n",
      "    0   1   0   0   0   0   0   0]\n",
      " [  0   2   0   0   1   0 134   0   0   0   0   1   1   0   0   0   2   0\n",
      "    0   0   0   0   0   0   0   0]\n",
      " [  0   1   0   1   0   0   0 128   0   0   3   0   0   1   0   0   1   1\n",
      "    0   0   2   0   0   0   0   0]\n",
      " [  0   0   0   0   0   0   0   0 143   5   0   0   0   0   0   0   0   0\n",
      "    0   0   0   0   0   0   0   0]\n",
      " [  0   0   0   0   0   0   0   0   3 137   0   0   0   0   0   0   0   0\n",
      "    0   0   0   0   0   0   0   0]\n",
      " [  0   0   0   0   0   0   0   1   0   0 135   0   0   0   0   0   0   0\n",
      "    0   0   0   0   0   0   0   0]\n",
      " [  0   0   0   0   1   0   1   0   0   1   0 162   0   0   0   0   1   0\n",
      "    0   0   0   0   0   1   0   0]\n",
      " [  0   0   0   0   0   0   1   0   0   0   0   0 166   0   0   0   0   0\n",
      "    0   0   1   0   0   0   0   0]\n",
      " [  0   0   0   0   0   0   0   0   0   0   0   0   0 148   0   0   0   1\n",
      "    0   0   0   0   0   0   0   0]\n",
      " [  0   0   0   0   0   0   0   0   0   1   0   0   0   0 152   0   1   0\n",
      "    0   0   0   0   0   0   0   0]\n",
      " [  0   0   0   0   0   2   0   0   0   0   0   0   0   0   0 154   0   1\n",
      "    0   0   0   1   0   0   1   0]\n",
      " [  0   0   0   0   0   0   0   0   0   0   0   1   0   0   0   1 140   0\n",
      "    0   0   0   0   0   0   0   0]\n",
      " [  0   1   0   0   0   0   0   1   0   0   2   0   0   0   0   0   0 157\n",
      "    0   0   0   0   0   0   0   0]\n",
      " [  0   0   0   0   1   0   0   0   0   0   0   0   0   0   0   0   1   0\n",
      "  143   0   0   0   0   0   0   0]\n",
      " [  0   0   0   1   0   0   0   1   0   0   0   0   0   0   0   0   0   0\n",
      "    1 157   0   0   0   0   0   0]\n",
      " [  0   0   1   0   0   0   0   0   0   0   0   0   1   1   0   0   0   0\n",
      "    0   0 158   0   0   0   0   0]\n",
      " [  0   0   0   0   0   0   0   0   0   0   0   0   0   0   0   0   0   0\n",
      "    0   0   0 159   2   0   0   0]\n",
      " [  0   0   0   0   0   0   0   0   0   0   1   0   0   0   0   0   0   0\n",
      "    0   0   0   0 157   0   0   0]\n",
      " [  0   0   0   1   0   0   0   0   0   0   1   0   0   0   0   0   0   0\n",
      "    0   0   0   0   0 161   0   0]\n",
      " [  0   0   0   0   0   0   0   0   0   0   0   0   0   0   0   0   0   0\n",
      "    1   1   0   0   0   0 165   0]\n",
      " [  0   0   0   0   1   0   0   0   0   0   0   0   0   0   0   0   0   0\n",
      "    0   0   0   0   0   0   0 147]]\n",
      "Classification report               precision    recall  f1-score   support\n",
      "\n",
      "           A    1.00000   1.00000   1.00000       170\n",
      "           B    0.96479   0.95139   0.95804       144\n",
      "           C    0.98742   0.97516   0.98125       161\n",
      "           D    0.98276   0.98276   0.98276       174\n",
      "           E    0.95973   0.96622   0.96296       148\n",
      "           F    0.98540   0.98540   0.98540       137\n",
      "           G    0.97810   0.95035   0.96403       141\n",
      "           H    0.96970   0.92754   0.94815       138\n",
      "           I    0.96622   0.96622   0.96622       148\n",
      "           J    0.95139   0.97857   0.96479       140\n",
      "           K    0.95070   0.99265   0.97122       136\n",
      "           L    0.97590   0.97006   0.97297       167\n",
      "           M    0.98810   0.98810   0.98810       168\n",
      "           N    0.98013   0.99329   0.98667       149\n",
      "           O    0.98701   0.98701   0.98701       154\n",
      "           P    0.99355   0.96855   0.98089       159\n",
      "           Q    0.95890   0.98592   0.97222       142\n",
      "           R    0.96914   0.97516   0.97214       161\n",
      "           S    0.98621   0.98621   0.98621       145\n",
      "           T    0.98742   0.98125   0.98433       160\n",
      "           U    0.98137   0.98137   0.98137       161\n",
      "           V    0.98758   0.98758   0.98758       161\n",
      "           W    0.98742   0.99367   0.99054       158\n",
      "           X    0.98773   0.98773   0.98773       163\n",
      "           Y    0.99398   0.98802   0.99099       167\n",
      "           Z    0.98000   0.99324   0.98658       148\n",
      "\n",
      "    accuracy                        0.97900      4000\n",
      "   macro avg    0.97849   0.97859   0.97847      4000\n",
      "weighted avg    0.97910   0.97900   0.97898      4000\n",
      "\n"
     ]
    }
   ],
   "source": [
    "\n",
    "predictions = cm.predict(X_validation)\n",
    "\n",
    "print(\"Accuracy: \", accuracy_score(Y_validation, predictions))\n",
    "print(\"Confusion matrix:\",confusion_matrix(Y_validation, predictions))\n",
    "print(\"Classification report\",classification_report(Y_validation, predictions, digits=5))"
   ]
  },
  {
   "cell_type": "code",
   "execution_count": 9,
   "metadata": {
    "colab": {
     "base_uri": "https://localhost:8080/"
    },
    "id": "76uRU-z9FVgm",
    "outputId": "bb09b82e-da52-4b46-d87c-39a8453fa236"
   },
   "outputs": [
    {
     "name": "stdout",
     "output_type": "stream",
     "text": [
      "Predicted Class: X\n"
     ]
    },
    {
     "name": "stderr",
     "output_type": "stream",
     "text": [
      "C:\\Users\\LENOVO\\AppData\\Local\\Programs\\Python\\Python311\\Lib\\site-packages\\sklearn\\base.py:465: UserWarning: X does not have valid feature names, but StandardScaler was fitted with feature names\n",
      "  warnings.warn(\n"
     ]
    }
   ],
   "source": [
    "import numpy as np\n",
    "\n",
    "# Create a custom input data point similar to your dataset\n",
    "custom_input = np.array([[3\t,9\t,5\t,7\t,4\t,8\t,7,\t3\t,8\t,5\t,6\t,8\t,2\t,8\t,6,\t7]])  # X\n",
    "# custom_input = np.array([[4\t,11,\t6\t,8\t,6\t,10,\t6,\t2,\t6,\t10,\t3,\t7,\t3,\t7,\t3,\t9,]])  #D\n",
    "# [3\t,9\t,5\t,7\t,4\t,8\t,7,\t3\t,8\t,5\t,6\t,8\t,2\t,8\t,6,\t7]\n",
    "\n",
    "# Scale the custom input using the same scaler used for training\n",
    "custom_input_scaled = scaler.transform(custom_input)\n",
    "\n",
    "# Predict the class label for the custom input\n",
    "predicted_class = cm.predict(custom_input_scaled)\n",
    "\n",
    "# Print the predicted class label\n",
    "print(\"Predicted Class:\", predicted_class[0])\n"
   ]
  },
  {
   "cell_type": "code",
   "execution_count": 17,
   "metadata": {
    "colab": {
     "base_uri": "https://localhost:8080/"
    },
    "id": "zEc1AdzX-YGB",
    "outputId": "4e88a4c6-032a-48a4-86c0-d54b8e08f0e9"
   },
   "outputs": [
    {
     "name": "stdout",
     "output_type": "stream",
     "text": [
      "Predicted Class: ['J']\n"
     ]
    },
    {
     "name": "stderr",
     "output_type": "stream",
     "text": [
      "C:\\Users\\LENOVO\\AppData\\Local\\Programs\\Python\\Python311\\Lib\\site-packages\\sklearn\\base.py:465: UserWarning: X does not have valid feature names, but StandardScaler was fitted with feature names\n",
      "  warnings.warn(\n"
     ]
    }
   ],
   "source": [
    "import numpy as np\n",
    "\n",
    "# Create a custom input data point similar to your dataset  \n",
    "# custom_input = np.array([[88\t,1\t,3\t,1\t,1\t,8\t,6\t,6\t,6\t,6\t,5\t,9\t,1\t,7\t,5\t,10]])  # C\n",
    "custom_input = np.array([[4\t,0,\t6\t,8\t,6\t,10,\t6,\t2,\t6,\t10,\t3,\t7,\t3,\t7,\t3,\t9,]])  #J\n",
    "\n",
    "# Scale the custom input using the same scaler used for training\n",
    "custom_input_scaled = scaler.transform(custom_input)\n",
    "\n",
    "# Predict the class label for the custom input\n",
    "predicted_class = cm.predict(custom_input_scaled)\n",
    "\n",
    "# Print the predicted class label\n",
    "print(\"Predicted Class:\", predicted_class)\n"
   ]
  },
  {
   "cell_type": "code",
   "execution_count": 18,
   "metadata": {
    "colab": {
     "base_uri": "https://localhost:8080/"
    },
    "id": "zEc1AdzX-YGB",
    "outputId": "4e88a4c6-032a-48a4-86c0-d54b8e08f0e9"
   },
   "outputs": [
    {
     "name": "stdout",
     "output_type": "stream",
     "text": [
      "Predicted Class: P\n"
     ]
    },
    {
     "name": "stderr",
     "output_type": "stream",
     "text": [
      "C:\\Users\\LENOVO\\AppData\\Local\\Programs\\Python\\Python311\\Lib\\site-packages\\sklearn\\base.py:465: UserWarning: X does not have valid feature names, but StandardScaler was fitted with feature names\n",
      "  warnings.warn(\n"
     ]
    }
   ],
   "source": [
    "import numpy as np\n",
    "\n",
    "# Create a custom input data point similar to your dataset  \n",
    "# custom_input = np.array([[88\t,1\t,3\t,1\t,1\t,8\t,6\t,6\t,6\t,6\t,5\t,9\t,1\t,7\t,5\t,10]])  # C\n",
    "custom_input = np.array([[6,10,6,6,4,7,10,5,2,11,5,4,4,11,5,7,]])  #J\n",
    "\n",
    "# Scale the custom input using the same scaler used for training\n",
    "custom_input_scaled = scaler.transform(custom_input)\n",
    "\n",
    "# Predict the class label for the custom input\n",
    "predicted_class = cm.predict(custom_input_scaled)\n",
    "\n",
    "# Print the predicted class label\n",
    "print(\"Predicted Class:\", predicted_class[0])\n"
   ]
  },
  {
   "cell_type": "code",
   "execution_count": null,
   "metadata": {},
   "outputs": [],
   "source": []
  }
 ],
 "metadata": {
  "colab": {
   "provenance": []
  },
  "kernelspec": {
   "display_name": "Python 3 (ipykernel)",
   "language": "python",
   "name": "python3"
  },
  "language_info": {
   "codemirror_mode": {
    "name": "ipython",
    "version": 3
   },
   "file_extension": ".py",
   "mimetype": "text/x-python",
   "name": "python",
   "nbconvert_exporter": "python",
   "pygments_lexer": "ipython3",
   "version": "3.11.3"
  }
 },
 "nbformat": 4,
 "nbformat_minor": 1
}
